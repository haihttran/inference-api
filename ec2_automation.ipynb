{
 "cells": [
  {
   "cell_type": "markdown",
   "id": "6e1d28c5",
   "metadata": {},
   "source": [
    "# Start EC2 instance:"
   ]
  },
  {
   "cell_type": "code",
   "execution_count": 1,
   "id": "1fcd96db",
   "metadata": {},
   "outputs": [],
   "source": [
    "#Basic import boto3 libraries\n",
    "import boto3\n",
    "import sys\n",
    "import time\n",
    "\n",
    "#provided Access Credentialsaccess_key\n",
    "access_key = '######'\n",
    "secret_key = \"######\"\n",
    "\n",
    "#Using a non-used ec2 instance to test\n",
    "instance_id = '######' "
   ]
  },
  {
   "cell_type": "code",
   "execution_count": 2,
   "id": "345525b0",
   "metadata": {},
   "outputs": [
    {
     "name": "stdout",
     "output_type": "stream",
     "text": [
      "{'StartingInstances': [{'CurrentState': {'Code': 0, 'Name': 'pending'}, 'InstanceId': 'i-00e6293416c87fdcd', 'PreviousState': {'Code': 80, 'Name': 'stopped'}}], 'ResponseMetadata': {'RequestId': '9b057a22-4173-43c3-9506-a5c73c76fe39', 'HTTPStatusCode': 200, 'HTTPHeaders': {'x-amzn-requestid': '9b057a22-4173-43c3-9506-a5c73c76fe39', 'cache-control': 'no-cache, no-store', 'strict-transport-security': 'max-age=31536000; includeSubDomains', 'content-type': 'text/xml;charset=UTF-8', 'content-length': '579', 'date': 'Tue, 20 Jun 2023 10:26:31 GMT', 'server': 'AmazonEC2'}, 'RetryAttempts': 0}}\n",
      "starting instance\n",
      "starting instance\n",
      "It is running\n"
     ]
    }
   ],
   "source": [
    "count=0\n",
    "#Establish a connection to EC2 resource using credentials and region_name\n",
    "ec2 = boto3.resource('ec2', aws_access_key_id=access_key, aws_secret_access_key=secret_key,region_name='us-east-1')\n",
    "instance = ec2.Instance(instance_id)\n",
    "                        \n",
    "response = instance.start()\n",
    "\n",
    "print(response)\n",
    "                        \n",
    "while(True):\n",
    "    state = ec2.Instance(instance_id).state\n",
    "    if state['Name'] == 'running':\n",
    "        print('It is running')\n",
    "        break\n",
    "    else:\n",
    "        print('starting instance')\n",
    "        time.sleep(5)\n",
    "        continue"
   ]
  },
  {
   "cell_type": "markdown",
   "id": "2c549034",
   "metadata": {},
   "source": [
    "# Get ip address of the running EC2 instance:"
   ]
  },
  {
   "cell_type": "code",
   "execution_count": 3,
   "id": "033f75a0",
   "metadata": {},
   "outputs": [
    {
     "name": "stdout",
     "output_type": "stream",
     "text": [
      "50.19.57.242\n"
     ]
    }
   ],
   "source": [
    "instance_ip = ec2.Instance(instance_id).public_ip_address\n",
    "print(instance_ip)"
   ]
  },
  {
   "cell_type": "code",
   "execution_count": 4,
   "id": "da8c7425",
   "metadata": {},
   "outputs": [
    {
     "name": "stdout",
     "output_type": "stream",
     "text": [
      "{'Code': 16, 'Name': 'running'}\n"
     ]
    }
   ],
   "source": [
    "print(ec2.Instance(instance_id).state)"
   ]
  },
  {
   "cell_type": "markdown",
   "id": "d96c5ac0",
   "metadata": {},
   "source": [
    "# Access to remote host via SSH, activate virtual enviroment and fastapi:"
   ]
  },
  {
   "cell_type": "code",
   "execution_count": null,
   "id": "58983d2d",
   "metadata": {},
   "outputs": [],
   "source": [
    "import boto3\n",
    "import botocore\n",
    "import paramiko\n",
    "import requests\n",
    "\n",
    "key = paramiko.RSAKey.from_private_key_file('./ssh/reid.pem')\n",
    "client = paramiko.SSHClient()\n",
    "client.set_missing_host_key_policy(paramiko.AutoAddPolicy())\n",
    "# cmd = './ultra/bin/activate; cd /home/ubuntu/inference_api; uvicorn main:app --host 0.0.0.0 --port 8000;'\n",
    "cmd = 'source myjob.sh;'\n",
    "\n",
    "# Connect/ssh to an instance\n",
    "try:\n",
    "    # Here 'ubuntu' is user name and 'instance_ip' is public IP of EC2\n",
    "    client.connect(hostname=instance_ip, username=\"ubuntu\", pkey=key)\n",
    "\n",
    "    # Execute a command(cmd) after connecting/ssh to an instance\n",
    "    stdin, stdout, stderr = client.exec_command(cmd)\n",
    "    print(stdout.read())\n",
    "\n",
    "    r = requests.get('http://' + instance_ip + '/')\n",
    "\n",
    "    print(r)\n",
    "    # close the client connection once the job is done\n",
    "#     if()\n",
    "    client.close()\n",
    "\n",
    "except Exception(e):\n",
    "    print(e)"
   ]
  },
  {
   "cell_type": "markdown",
   "id": "a026d9b3",
   "metadata": {},
   "source": [
    "# Stop the running EC2 instance: "
   ]
  },
  {
   "cell_type": "code",
   "execution_count": null,
   "id": "593c6322",
   "metadata": {},
   "outputs": [],
   "source": [
    "response = instance.stop()\n",
    "                        \n",
    "print(response)\n",
    "\n",
    "while(True):\n",
    "    state = ec2.Instance(instance_id).state\n",
    "    if state['Name'] == 'stopped':\n",
    "        print('It is stopped')\n",
    "        break\n",
    "    else:\n",
    "        print('stopping instance')\n",
    "        time.sleep(5)\n",
    "        continue    "
   ]
  },
  {
   "cell_type": "markdown",
   "id": "741a0bab",
   "metadata": {},
   "source": [
    "# Utility code for download file from and upload file to AWS S3"
   ]
  },
  {
   "cell_type": "code",
   "execution_count": 48,
   "id": "d07f87c9",
   "metadata": {},
   "outputs": [],
   "source": [
    "#Basic import boto3 libraries\n",
    "import boto3\n",
    "import sys\n",
    "import time\n",
    "\n",
    "#provided Access Credentialsaccess_key\n",
    "access_key = \"######\"\n",
    "secret_key = \"######\"\n",
    "\n",
    "session = boto3.Session(\n",
    "    aws_access_key_id = access_key,\n",
    "    aws_secret_access_key = secret_key,\n",
    ")\n",
    "\n",
    "s3 = session.resource('s3')\n",
    "\n",
    "BUCKET_NAME = 'yolo-inference-poc'\n",
    "BUCKET_FILE_NAME = 'downloads/18.mp4'\n",
    "# LOCAL_FILE_NAME = './s3_download/' + BUCKET_FILE_NAME\n",
    "def download_s3_file(s3, bucket_name, bucket_file_name):\n",
    "    local_file_name = './s3_download/' + BUCKET_FILE_NAME.split('/')[-1]\n",
    "\n",
    "    my_bucket = s3.Bucket(bucket_name)\n",
    "    my_bucket.download_file(BUCKET_FILE_NAME, local_file_name)\n",
    "    return local_file_name\n",
    "\n",
    "test_output = download_s3_file(s3, BUCKET_NAME, BUCKET_FILE_NAME)"
   ]
  },
  {
   "cell_type": "code",
   "execution_count": 49,
   "id": "ac087d0c",
   "metadata": {},
   "outputs": [
    {
     "name": "stdout",
     "output_type": "stream",
     "text": [
      "True\n"
     ]
    }
   ],
   "source": [
    "from pathlib import Path\n",
    "\n",
    "print(Path(test_output).is_file())"
   ]
  },
  {
   "cell_type": "code",
   "execution_count": null,
   "id": "56f5cb38",
   "metadata": {},
   "outputs": [],
   "source": [
    "import boto3\n",
    "\n",
    "s3 = boto3.resource('s3')\n",
    "s3.meta.client.upload_file( test_output, \"yolo-inference-poc\", \"uploads/18.mp4\")"
   ]
  }
 ],
 "metadata": {
  "kernelspec": {
   "display_name": "conda_python3",
   "language": "python",
   "name": "conda_python3"
  },
  "language_info": {
   "codemirror_mode": {
    "name": "ipython",
    "version": 3
   },
   "file_extension": ".py",
   "mimetype": "text/x-python",
   "name": "python",
   "nbconvert_exporter": "python",
   "pygments_lexer": "ipython3",
   "version": "3.10.8"
  }
 },
 "nbformat": 4,
 "nbformat_minor": 5
}
